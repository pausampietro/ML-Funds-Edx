{
 "cells": [
  {
   "cell_type": "markdown",
   "metadata": {},
   "source": [
    "## Continguts del curs"
   ]
  },
  {
   "cell_type": "markdown",
   "metadata": {},
   "source": [
    "Syllabus:\n",
    "\n",
    "### Machine Learning Fundamentals.\n",
    "\n",
    "This course provides a thorough grounding in a wide range of machine learning methods, for classification, regression, conditional probability estimation, clustering, and dimensionality reduction.\n",
    "* Taxonomy of prediction problems\n",
    "* Nearest neighbor methods and families of distance functions\n",
    "* Generalization: what it means; overfitting; selecting parameters using cross-validation\n",
    "* Generative modeling for classification, especially using the multivariate Gaussian\n",
    "* Linear regression and its variants\n",
    "* Logistic regression\n",
    "* Optimization: deriving stochastic gradient descent algorithms and testing convexity\n",
    "* Linear classification using the support vector machine\n",
    "* Nonlinear modeling using basis expansion and kernel methods\n",
    "* Decision trees, boosting, and random forests\n",
    "* Methods for flat and hierarchical clustering\n",
    "* Principal component analysis\n",
    "* Autoencoders, distributed representations, and deep learning"
   ]
  },
  {
   "cell_type": "code",
   "execution_count": null,
   "metadata": {},
   "outputs": [],
   "source": []
  }
 ],
 "metadata": {
  "kernelspec": {
   "display_name": "Python 3",
   "language": "python",
   "name": "python3"
  },
  "language_info": {
   "codemirror_mode": {
    "name": "ipython",
    "version": 3
   },
   "file_extension": ".py",
   "mimetype": "text/x-python",
   "name": "python",
   "nbconvert_exporter": "python",
   "pygments_lexer": "ipython3",
   "version": "3.7.2"
  }
 },
 "nbformat": 4,
 "nbformat_minor": 2
}
